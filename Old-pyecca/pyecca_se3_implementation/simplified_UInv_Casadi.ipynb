{
 "cells": [
  {
   "cell_type": "code",
   "execution_count": 1,
   "metadata": {},
   "outputs": [],
   "source": [
    "import sympy as sy\n",
    "import numpy as np\n",
    "import casadi as ca\n",
    "import pathlib\n",
    "from SE3Lie import *\n",
    "import numpy as np\n",
    "from sympy import *\n",
    "from pyecca.lie import so3, r3, se3\n",
    "from pyecca.lie.util import DirectProduct\n",
    "from pyecca.lie.so3 import Quat, Dcm, Euler, Mrp\n",
    "from pyecca.lie.r3 import R3\n",
    "from pyecca.lie.se3 import SE3\n",
    "from pyecca.test import test_lie\n",
    "import casadi as ca\n",
    "from SE3Lie import se3, SE3, se3_diff_correction_inv, dot_plot_draw\n",
    "from casadi.tools.graph import graph, dotdraw, dotsave\n",
    "import os\n",
    "import pydot\n",
    "import math\n",
    "from Sympy_To_Casadi import SympyToCasadi\n"
   ]
  },
  {
   "cell_type": "markdown",
   "metadata": {},
   "source": [
    "Sympy for U_inv Matrix for Reference"
   ]
  },
  {
   "cell_type": "code",
   "execution_count": 2,
   "metadata": {},
   "outputs": [
    {
     "data": {
      "text/latex": [
       "$\\displaystyle \\left[\\begin{matrix}0 & - \\theta_{3} & \\theta_{2} & 0 & - z & y\\\\\\theta_{3} & 0 & - \\theta_{1} & z & 0 & - x\\\\- \\theta_{2} & \\theta_{1} & 0 & - y & x & 0\\\\0 & 0 & 0 & 0 & - \\theta_{3} & \\theta_{2}\\\\0 & 0 & 0 & \\theta_{3} & 0 & - \\theta_{1}\\\\0 & 0 & 0 & - \\theta_{2} & \\theta_{1} & 0\\end{matrix}\\right]$"
      ],
      "text/plain": [
       "Matrix([\n",
       "[       0, -theta_3,  theta_2,        0,       -z,        y],\n",
       "[ theta_3,        0, -theta_1,        z,        0,       -x],\n",
       "[-theta_2,  theta_1,        0,       -y,        x,        0],\n",
       "[       0,        0,        0,        0, -theta_3,  theta_2],\n",
       "[       0,        0,        0,  theta_3,        0, -theta_1],\n",
       "[       0,        0,        0, -theta_2,  theta_1,        0]])"
      ]
     },
     "execution_count": 2,
     "metadata": {},
     "output_type": "execute_result"
    }
   ],
   "source": [
    "x,y,z,theta_1,theta_2,theta_3 = symbols('x,y,z,theta_1,theta_2,theta_3',real=True)\n",
    "theta = symbols('theta', real = True)\n",
    "ad = sy.Matrix( [[0, -theta_3, theta_2, 0, -z, y], [theta_3, 0, -theta_1, z,0, -x], [-theta_2, theta_1,0,-y, x, 0], [0,0,0,0,-theta_3,theta_2],[0,0,0,theta_3,0,-theta_1],[0,0,0,-theta_2,theta_1,0]])\n",
    "I = eye(6)\n",
    "A, B = symbols('A, B')\n",
    "f_A = sy.Function('A_1')\n",
    "f_B = sy.Function('B_1')\n",
    "UInv = -1*(I + A*ad + B*ad**2)\n",
    "UInv = UInv.subs(A, f_A(theta)).subs(B,f_B(theta))\n",
    "UInv #separate into Odd and Even terms\n",
    "ad"
   ]
  },
  {
   "cell_type": "code",
   "execution_count": 3,
   "metadata": {},
   "outputs": [
    {
     "data": {
      "text/latex": [
       "$\\displaystyle \\left[\\begin{matrix}- \\left(- \\theta_{2}^{2} - \\theta_{3}^{2}\\right) \\operatorname{B_{1}}{\\left(\\theta \\right)} - 1 & - \\theta_{1} \\theta_{2} \\operatorname{B_{1}}{\\left(\\theta \\right)} + \\theta_{3} \\operatorname{A_{1}}{\\left(\\theta \\right)} & - \\theta_{1} \\theta_{3} \\operatorname{B_{1}}{\\left(\\theta \\right)} - \\theta_{2} \\operatorname{A_{1}}{\\left(\\theta \\right)} & - \\left(- 2 \\theta_{2} y - 2 \\theta_{3} z\\right) \\operatorname{B_{1}}{\\left(\\theta \\right)} & z \\operatorname{A_{1}}{\\left(\\theta \\right)} - \\left(\\theta_{1} y + \\theta_{2} x\\right) \\operatorname{B_{1}}{\\left(\\theta \\right)} & - y \\operatorname{A_{1}}{\\left(\\theta \\right)} - \\left(\\theta_{1} z + \\theta_{3} x\\right) \\operatorname{B_{1}}{\\left(\\theta \\right)}\\\\- \\theta_{1} \\theta_{2} \\operatorname{B_{1}}{\\left(\\theta \\right)} - \\theta_{3} \\operatorname{A_{1}}{\\left(\\theta \\right)} & - \\left(- \\theta_{1}^{2} - \\theta_{3}^{2}\\right) \\operatorname{B_{1}}{\\left(\\theta \\right)} - 1 & \\theta_{1} \\operatorname{A_{1}}{\\left(\\theta \\right)} - \\theta_{2} \\theta_{3} \\operatorname{B_{1}}{\\left(\\theta \\right)} & - z \\operatorname{A_{1}}{\\left(\\theta \\right)} - \\left(\\theta_{1} y + \\theta_{2} x\\right) \\operatorname{B_{1}}{\\left(\\theta \\right)} & - \\left(- 2 \\theta_{1} x - 2 \\theta_{3} z\\right) \\operatorname{B_{1}}{\\left(\\theta \\right)} & x \\operatorname{A_{1}}{\\left(\\theta \\right)} - \\left(\\theta_{2} z + \\theta_{3} y\\right) \\operatorname{B_{1}}{\\left(\\theta \\right)}\\\\- \\theta_{1} \\theta_{3} \\operatorname{B_{1}}{\\left(\\theta \\right)} + \\theta_{2} \\operatorname{A_{1}}{\\left(\\theta \\right)} & - \\theta_{1} \\operatorname{A_{1}}{\\left(\\theta \\right)} - \\theta_{2} \\theta_{3} \\operatorname{B_{1}}{\\left(\\theta \\right)} & - \\left(- \\theta_{1}^{2} - \\theta_{2}^{2}\\right) \\operatorname{B_{1}}{\\left(\\theta \\right)} - 1 & y \\operatorname{A_{1}}{\\left(\\theta \\right)} - \\left(\\theta_{1} z + \\theta_{3} x\\right) \\operatorname{B_{1}}{\\left(\\theta \\right)} & - x \\operatorname{A_{1}}{\\left(\\theta \\right)} - \\left(\\theta_{2} z + \\theta_{3} y\\right) \\operatorname{B_{1}}{\\left(\\theta \\right)} & - \\left(- 2 \\theta_{1} x - 2 \\theta_{2} y\\right) \\operatorname{B_{1}}{\\left(\\theta \\right)}\\\\0 & 0 & 0 & - \\left(- \\theta_{2}^{2} - \\theta_{3}^{2}\\right) \\operatorname{B_{1}}{\\left(\\theta \\right)} - 1 & - \\theta_{1} \\theta_{2} \\operatorname{B_{1}}{\\left(\\theta \\right)} + \\theta_{3} \\operatorname{A_{1}}{\\left(\\theta \\right)} & - \\theta_{1} \\theta_{3} \\operatorname{B_{1}}{\\left(\\theta \\right)} - \\theta_{2} \\operatorname{A_{1}}{\\left(\\theta \\right)}\\\\0 & 0 & 0 & - \\theta_{1} \\theta_{2} \\operatorname{B_{1}}{\\left(\\theta \\right)} - \\theta_{3} \\operatorname{A_{1}}{\\left(\\theta \\right)} & - \\left(- \\theta_{1}^{2} - \\theta_{3}^{2}\\right) \\operatorname{B_{1}}{\\left(\\theta \\right)} - 1 & \\theta_{1} \\operatorname{A_{1}}{\\left(\\theta \\right)} - \\theta_{2} \\theta_{3} \\operatorname{B_{1}}{\\left(\\theta \\right)}\\\\0 & 0 & 0 & - \\theta_{1} \\theta_{3} \\operatorname{B_{1}}{\\left(\\theta \\right)} + \\theta_{2} \\operatorname{A_{1}}{\\left(\\theta \\right)} & - \\theta_{1} \\operatorname{A_{1}}{\\left(\\theta \\right)} - \\theta_{2} \\theta_{3} \\operatorname{B_{1}}{\\left(\\theta \\right)} & - \\left(- \\theta_{1}^{2} - \\theta_{2}^{2}\\right) \\operatorname{B_{1}}{\\left(\\theta \\right)} - 1\\end{matrix}\\right]$"
      ],
      "text/plain": [
       "Matrix([\n",
       "[      -(-theta_2**2 - theta_3**2)*B_1(theta) - 1, -theta_1*theta_2*B_1(theta) + theta_3*A_1(theta), -theta_1*theta_3*B_1(theta) - theta_2*A_1(theta),           -(-2*theta_2*y - 2*theta_3*z)*B_1(theta),  z*A_1(theta) - (theta_1*y + theta_2*x)*B_1(theta), -y*A_1(theta) - (theta_1*z + theta_3*x)*B_1(theta)],\n",
       "[-theta_1*theta_2*B_1(theta) - theta_3*A_1(theta),       -(-theta_1**2 - theta_3**2)*B_1(theta) - 1,  theta_1*A_1(theta) - theta_2*theta_3*B_1(theta), -z*A_1(theta) - (theta_1*y + theta_2*x)*B_1(theta),           -(-2*theta_1*x - 2*theta_3*z)*B_1(theta),  x*A_1(theta) - (theta_2*z + theta_3*y)*B_1(theta)],\n",
       "[-theta_1*theta_3*B_1(theta) + theta_2*A_1(theta), -theta_1*A_1(theta) - theta_2*theta_3*B_1(theta),       -(-theta_1**2 - theta_2**2)*B_1(theta) - 1,  y*A_1(theta) - (theta_1*z + theta_3*x)*B_1(theta), -x*A_1(theta) - (theta_2*z + theta_3*y)*B_1(theta),           -(-2*theta_1*x - 2*theta_2*y)*B_1(theta)],\n",
       "[                                               0,                                                0,                                                0,         -(-theta_2**2 - theta_3**2)*B_1(theta) - 1,   -theta_1*theta_2*B_1(theta) + theta_3*A_1(theta),   -theta_1*theta_3*B_1(theta) - theta_2*A_1(theta)],\n",
       "[                                               0,                                                0,                                                0,   -theta_1*theta_2*B_1(theta) - theta_3*A_1(theta),         -(-theta_1**2 - theta_3**2)*B_1(theta) - 1,    theta_1*A_1(theta) - theta_2*theta_3*B_1(theta)],\n",
       "[                                               0,                                                0,                                                0,   -theta_1*theta_3*B_1(theta) + theta_2*A_1(theta),   -theta_1*A_1(theta) - theta_2*theta_3*B_1(theta),         -(-theta_1**2 - theta_2**2)*B_1(theta) - 1]])"
      ]
     },
     "execution_count": 3,
     "metadata": {},
     "output_type": "execute_result"
    }
   ],
   "source": [
    "UInv"
   ]
  },
  {
   "cell_type": "code",
   "execution_count": 4,
   "metadata": {},
   "outputs": [
    {
     "data": {
      "text/plain": [
       "{'A_1': Function(theta:(i0)->(o0) SXFunction),\n",
       " 'B_1': Function(theta:(i0)->(o0) SXFunction)}"
      ]
     },
     "execution_count": 4,
     "metadata": {},
     "output_type": "execute_result"
    }
   ],
   "source": [
    "f_replacements = {}\n",
    "A = ca.SX.sym('A')\n",
    "\n",
    "\n",
    "C1 = (1-ca.cos((A)))/(ca.mpower(A,2))\n",
    "C2 = (A-ca.sin(A))/(ca.mpower(A,3))\n",
    "\n",
    "f_replacements['A_1'] = ca.Function('theta',[A], [\n",
    "    ca.if_else(type(A) == ca.casadi.SX, (C1), \n",
    "    ca.if_else(ca.fabs(A) < 1e-5, 0.5 - A ** 2 / 24 + A ** 4 / 720, C1 )) #fix ca.taylor expr\n",
    "    ])\n",
    "f_replacements['B_1'] = ca.Function('theta',[A], [\n",
    "    ca.if_else(type(A) == ca.casadi.SX, C2,\n",
    "    ca.if_else(ca.fabs(A) < 1e-5, 1/6 - A**2 /120 + A**4/5040, C2))  #fix ca.taylor expr\n",
    "    ])\n",
    "    \n",
    "f_replacements"
   ]
  },
  {
   "cell_type": "markdown",
   "metadata": {},
   "source": [
    "U Inv matrix in casadi form and dot draw plot"
   ]
  },
  {
   "cell_type": "markdown",
   "metadata": {},
   "source": [
    "\n",
    "parser = SympyToCasadi()\n",
    "UInv_ca = parser.parse(UInv, cse=True)\n",
    "UInv_ca"
   ]
  },
  {
   "cell_type": "code",
   "execution_count": 5,
   "metadata": {},
   "outputs": [
    {
     "data": {
      "text/plain": [
       "SX(@1=-1, @2=1, @3=((@2-cos(theta))/sq(theta)), @4=sq(theta_2), @5=sq(theta_3), @6=(@1+(@3*(@4+@5))), @7=((@2-cos(theta))/sq(theta)), @8=(@7*theta_3), @9=(@3*theta_1), @10=(@9*theta_2), @11=(-(@8+@10)), @12=(@7*theta_2), @13=(@9*theta_3), @14=(@12-@13), @15=0, @16=(@8-@10), @17=sq(theta_1), @18=(@1+(@3*(@17+@5))), @19=(@7*theta_1), @20=((@3*theta_2)*theta_3), @21=(-(@19+@20)), @22=(-(@13+@12)), @23=(@19-@20), @24=(@1+(@3*(@4+@17))), @25=2, @26=((@25*theta_2)*y), @27=((@25*theta_3)*z), @28=(@7*z), @29=(@3*((theta_1*y)+(theta_2*x))), @30=(@7*y), @31=(@3*((theta_1*z)+(theta_3*x))), @32=((@25*theta_1)*x), @33=(@7*x), @34=(@3*((theta_2*z)+(theta_3*y))), \n",
       "[[@6, @16, @22, (@3*(@26+@27)), (@28-@29), (-(@30+@31))], \n",
       " [@11, @18, @23, (-(@28+@29)), (@3*(@27+@32)), (@33-@34)], \n",
       " [@14, @21, @24, (@30-@31), (-(@33+@34)), (@3*(@26+@32))], \n",
       " [@15, @15, @15, @6, @16, @22], \n",
       " [@15, @15, @15, @11, @18, @23], \n",
       " [@15, @15, @15, @14, @21, @24]])"
      ]
     },
     "execution_count": 5,
     "metadata": {},
     "output_type": "execute_result"
    }
   ],
   "source": [
    "parser = SympyToCasadi()\n",
    "UInv_ca = parser.parse(UInv, f_replacements, cse=True)\n",
    "UInv_ca"
   ]
  },
  {
   "cell_type": "markdown",
   "metadata": {},
   "source": [
    "dot_plot_draw output as \"result_test_simplified.png\""
   ]
  },
  {
   "cell_type": "code",
   "execution_count": 6,
   "metadata": {},
   "outputs": [],
   "source": [
    "dot_plot_draw(UInv_ca)\n"
   ]
  }
 ],
 "metadata": {
  "kernelspec": {
   "display_name": "base",
   "language": "python",
   "name": "python3"
  },
  "language_info": {
   "codemirror_mode": {
    "name": "ipython",
    "version": 3
   },
   "file_extension": ".py",
   "mimetype": "text/x-python",
   "name": "python",
   "nbconvert_exporter": "python",
   "pygments_lexer": "ipython3",
   "version": "3.9.13"
  },
  "orig_nbformat": 4,
  "vscode": {
   "interpreter": {
    "hash": "fd8fdbcc47bcf00f56155bd180639cfa90ecb82cae6636740394c993fa42bdd0"
   }
  }
 },
 "nbformat": 4,
 "nbformat_minor": 2
}
