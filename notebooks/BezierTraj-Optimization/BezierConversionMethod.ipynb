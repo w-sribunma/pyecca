{
 "cells": [
  {
   "cell_type": "code",
   "execution_count": 1,
   "metadata": {},
   "outputs": [
    {
     "data": {
      "text/latex": [
       "$\\displaystyle \\left[\\begin{matrix}P{\\left(0 \\right)} & P{\\left(1 \\right)} & P{\\left(2 \\right)} & P{\\left(3 \\right)} & P{\\left(4 \\right)} & P{\\left(5 \\right)}\\end{matrix}\\right]$"
      ],
      "text/plain": [
       "Matrix([[P(0), P(1), P(2), P(3), P(4), P(5)]])"
      ]
     },
     "execution_count": 1,
     "metadata": {},
     "output_type": "execute_result"
    }
   ],
   "source": [
    "import numpy as np\n",
    "import sympy\n",
    "import sympy as sy\n",
    "from sympy import symbols, factorial, Function, summation, binomial, product\n",
    "# import scipy.optimize\n",
    "\n",
    "n, i, j, m = symbols('n, i, j, m', integer=True, real=True)\n",
    "\n",
    "t = symbols('t')\n",
    "P = Function('P') #Position Function as a function of time\n",
    "\n",
    "deg = 6 #Bezier degree\n",
    "\n",
    "B = summation(binomial(n, i)*(1 - t)**(n-i)*t**i*P(i), (i, 0, n))\n",
    "P_vect = (sympy.Matrix([P(i) for i in range(deg)])).T #Bezier 6 uses range(6)?\n",
    "P_vect"
   ]
  },
  {
   "cell_type": "code",
   "execution_count": 2,
   "metadata": {},
   "outputs": [],
   "source": [
    "class Bezier:\n",
    "#https://en.wikipedia.org/wiki/B%C3%A9zier_curve\n",
    "\n",
    "    def __init__(self, P, T: float):\n",
    "        self.P = P\n",
    "        self.m = P.shape[0]\n",
    "        self.n = P.shape[1]-1\n",
    "        self.T = T\n",
    "    \n",
    "    def eval(self, t):\n",
    "        #https://en.wikipedia.org/wiki/De_Casteljau%27s_algorithm\n",
    "        beta = t/self.T\n",
    "        A = sympy.Matrix(self.P)\n",
    "        for j in range(1, self.n + 1):\n",
    "            for k in range(self.n + 1 - j):\n",
    "                A[:, k] = A[:, k] * (1 - beta) + A[:, k + 1] * beta\n",
    "        return A[:, 0]\n",
    "\n",
    "    def deriv(self, m=1):\n",
    "        D_sy = sympy.Matrix(self.P)\n",
    "        diff_calc = sympy.zeros(D_sy.shape[0]-1,1).T\n",
    "        for j in range(1, m+1): #should range start from 1 or 0???\n",
    "            diff_calc = diff_calc.row_join(difference_operator(D_sy,j))\n",
    "            D_soln = (P_vect.shape[1] -j)*diff_calc  #constant term is 5? or 4? P_vect.shape[1]-1?\n",
    "        return Bezier(D_soln/self.T**m, self.T)\n",
    "    \n",
    "def difference_operator(P_vect, j=1): #check if j must be 1\n",
    "    return sympy.Matrix([P_vect[i+1] - P_vect[i] for i in range(len(P_vect) - j)]).T\n",
    "    \n",
    "def derive_bezier6():\n",
    "    n = 6 #Bezier Degree\n",
    "    T = sympy.Symbol('T') #ca.SX.sym('T')\n",
    "    t = sympy.Symbol('t') #ca.SX.sym('t')                       \n",
    "    P= Function('P')       # P = ca.SX.sym('P', 1, n)\n",
    "    P_c = (sympy.Matrix([P(i) for i in range(n)])).T #Bezier Positon Matrices length = n\n",
    "    B = Bezier(P_c, T)\n",
    "\n",
    "    # derivatives\n",
    "    B_d = B.deriv()\n",
    "    B_d2 = B_d.deriv()\n",
    "    B_d3 = B_d2.deriv()\n",
    "    B_d4 = B_d3.deriv()\n",
    "\n",
    "    # boundary conditions\n",
    "\n",
    "    # trajectory\n",
    "    p = B.eval(t)\n",
    "    v = B_d.eval(t)\n",
    "    a = B_d2.eval(t)\n",
    "    r = sy.Matrix.vstack(p,v,a)    #ca.vertcat(p, v, a)\n",
    "\n",
    "    # given position/velocity boundary conditions, solve for bezier points\n",
    "    wp_0 = sympy.MatrixSymbol('ptin', 2, 1) #ca.SX.sym('p0', 2, 1)  # pos/vel at waypoint 0\n",
    "    wp_1 = sympy.MatrixSymbol('ptone', 2, 1) #ca.SX.sym('p1', 2, 1)  # pos/vel at waypoint 1\n",
    "\n",
    "    constraints = []\n",
    "    constraints += [(B.eval(0), wp_0[0])]  # pos @ wp0\n",
    "    constraints += [(B_d.eval(0), wp_0[1])]  # vel @ wp0\n",
    "    constraints += [(B_d2.eval(0), 0)]  # zero accel @ wp0\n",
    "    constraints += [(B.eval(T), wp_1[0])]  # pos @ wp1\n",
    "    constraints += [(B_d.eval(T), wp_1[1])]  # vel @ wp1\n",
    "    constraints += [(B_d2.eval(T), 0)]  # zero accel @ wp1\n",
    "\n",
    "    assert len(constraints) == 6\n",
    "\n",
    "    Y = sy.Matrix.vstack(*[c[0] for c in constraints])  #ca.vertcat(*[c[0] for c in constraints])\n",
    "    b = sy.Matrix([c[1] for c in constraints])   #ca.vertcat(*[c[1] for c in constraints])\n",
    "    A = Y.jacobian(P_c)\n",
    "    A_inv = A.inv()\n",
    "    P_sol = (A_inv@b).T\n",
    "    return {\n",
    "        'bezier6_solve': P_sol\n",
    "    }\n",
    "\n"
   ]
  },
  {
   "cell_type": "code",
   "execution_count": 3,
   "metadata": {},
   "outputs": [
    {
     "data": {
      "text/latex": [
       "$\\displaystyle \\left[\\begin{matrix}0 & \\frac{T}{5} & \\frac{2 T}{5} & 2 - \\frac{6 T}{5} & 2 - \\frac{3 T}{5} & 2\\end{matrix}\\right]$"
      ],
      "text/plain": [
       "Matrix([[0, T/5, 2*T/5, 2 - 6*T/5, 2 - 3*T/5, 2]])"
      ]
     },
     "execution_count": 3,
     "metadata": {},
     "output_type": "execute_result"
    }
   ],
   "source": [
    "#RUNNING BEZIER constraint coefficient matrix\n",
    "\n",
    "wp_0 = sympy.MatrixSymbol('ptin', 2, 1) #ca.SX.sym('p0', 2, 1)  # pos/vel at waypoint 0\n",
    "wp_1 = sympy.MatrixSymbol('ptone',2,1)\n",
    "T = sympy.Symbol('T')\n",
    "\n",
    "#INPUTS\n",
    "wpVal0 = [0,1] #Waypoint value in [pos, vel] for wp0\n",
    "wpVal1 = [2,3] #Waypoint value in [pos, vel] for wp1\n",
    "T_l = 4 #input Time T\n",
    "\n",
    "p_constr = derive_bezier6()['bezier6_solve'] #Bezier Coefficient\n",
    "for i in range(wp_0.shape[0]):\n",
    "    p_constr = p_constr.subs(wp_0[i],wpVal0[i]).subs(wp_1[i],wpVal1[i])\n",
    "    \n",
    "# p_constr = p_constr.subs(T,T_l) #Substitute T value\n",
    "\n",
    "p_constr"
   ]
  },
  {
   "cell_type": "code",
   "execution_count": 4,
   "metadata": {},
   "outputs": [],
   "source": [
    "# n0 =6\n",
    "# C = sympy.factorial(n)/sympy.factorial(n - j)*summation((-1)**(i + j)*P(i)/(factorial(i)*factorial(j - i)), (i, 0, j)) ##error with sympy version when run\n",
    "\n",
    "# P_vect = sympy.Matrix([P(i) for i in range(n0)])\n",
    "# C_matrix = sympy.Matrix([C.subs({j: j0, n: n0}).doit() for j0 in range(n0)])\n",
    "# C_matrix\n",
    "\n",
    "# A = C_matrix.jacobian(P_vect)"
   ]
  },
  {
   "cell_type": "code",
   "execution_count": null,
   "metadata": {},
   "outputs": [],
   "source": []
  }
 ],
 "metadata": {
  "kernelspec": {
   "display_name": "Python 3",
   "language": "python",
   "name": "python3"
  },
  "language_info": {
   "codemirror_mode": {
    "name": "ipython",
    "version": 3
   },
   "file_extension": ".py",
   "mimetype": "text/x-python",
   "name": "python",
   "nbconvert_exporter": "python",
   "pygments_lexer": "ipython3",
   "version": "3.10.6"
  },
  "orig_nbformat": 4
 },
 "nbformat": 4,
 "nbformat_minor": 2
}
