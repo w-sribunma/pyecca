{
 "cells": [
  {
   "cell_type": "code",
   "execution_count": null,
   "metadata": {},
   "outputs": [],
   "source": []
  },
  {
   "attachments": {},
   "cell_type": "markdown",
   "metadata": {},
   "source": [
    "Trajectory Optimization in Bezier space for multirotor is governed by inputs of wp_0, wp_1, and T"
   ]
  },
  {
   "attachments": {},
   "cell_type": "markdown",
   "metadata": {},
   "source": [
    "Cost Function penalizing the square derivative term for smoothness and achievability of trajectory\n",
    "\n",
    "Cost Function:\n",
    "\n",
    "$ J(t) = \\int_{t-1}^{t} ( ( \\dot{B}_{(i,n-1)}(t))^2 + (\\ddot{B}_{(i,n-1)}(t))^2 )dt$\n",
    "\n",
    "Implementing time allocation:\n",
    "\n",
    "$min(J) = \\sum_{i=1}^{n-1} J_x(t) + k_t\\sum_{i+1}^n T_i$\n",
    "\n",
    "Expanding the Cost function into all 3 components and time:\n",
    "\n",
    "$min(J_{Total}) = J_x(t) + J_y(t) + J_z(t) + k_t\\sum_{i+1}^n T_i$\n",
    "\n",
    "minimizing the J_{Total} term to obtain the optimal T_{opt} along with wp_0 and wp_1 terms for use in bezier_6 function\n",
    "\n"
   ]
  },
  {
   "cell_type": "markdown",
   "metadata": {},
   "source": []
  },
  {
   "cell_type": "code",
   "execution_count": null,
   "metadata": {},
   "outputs": [],
   "source": []
  }
 ],
 "metadata": {
  "language_info": {
   "name": "python"
  },
  "orig_nbformat": 4
 },
 "nbformat": 4,
 "nbformat_minor": 2
}
