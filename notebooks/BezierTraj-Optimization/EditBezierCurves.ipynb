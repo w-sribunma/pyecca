{
 "cells": [
  {
   "cell_type": "code",
   "execution_count": 1,
   "metadata": {
    "tags": []
   },
   "outputs": [],
   "source": [
    "import numpy as np\n",
    "import sympy\n",
    "from sympy import symbols, factorial, Function, summation, binomial, product\n",
    "\n",
    "n, i, j, m = symbols('n, i, j, m', integer=True, real=True)\n",
    "\n",
    "t = symbols('t')\n",
    "P = Function('P')\n",
    "\n",
    "B = summation(binomial(n, i)*(1 - t)**(n-i)*t**i*P(i), (i, 0, n))"
   ]
  },
  {
   "cell_type": "code",
   "execution_count": 12,
   "metadata": {
    "tags": []
   },
   "outputs": [
    {
     "data": {
      "text/latex": [
       "$\\displaystyle \\left[\\begin{matrix}P{\\left(0 \\right)}\\\\P{\\left(1 \\right)}\\\\P{\\left(2 \\right)}\\\\P{\\left(3 \\right)}\\\\P{\\left(4 \\right)}\\\\P{\\left(5 \\right)}\\\\P{\\left(6 \\right)}\\\\P{\\left(7 \\right)}\\end{matrix}\\right]$"
      ],
      "text/plain": [
       "Matrix([\n",
       "[P(0)],\n",
       "[P(1)],\n",
       "[P(2)],\n",
       "[P(3)],\n",
       "[P(4)],\n",
       "[P(5)],\n",
       "[P(6)],\n",
       "[P(7)]])"
      ]
     },
     "execution_count": 12,
     "metadata": {},
     "output_type": "execute_result"
    }
   ],
   "source": [
    "P_vect = sympy.Matrix([P(i) for i in range(8)])\n",
    "P_vect"
   ]
  },
  {
   "cell_type": "code",
   "execution_count": 14,
   "metadata": {
    "tags": []
   },
   "outputs": [
    {
     "data": {
      "text/latex": [
       "$\\displaystyle \\left[\\begin{matrix}- P{\\left(0 \\right)} + P{\\left(1 \\right)}\\\\- P{\\left(1 \\right)} + P{\\left(2 \\right)}\\\\- P{\\left(2 \\right)} + P{\\left(3 \\right)}\\\\- P{\\left(3 \\right)} + P{\\left(4 \\right)}\\\\- P{\\left(4 \\right)} + P{\\left(5 \\right)}\\\\- P{\\left(5 \\right)} + P{\\left(6 \\right)}\\\\- P{\\left(6 \\right)} + P{\\left(7 \\right)}\\end{matrix}\\right]$"
      ],
      "text/plain": [
       "Matrix([\n",
       "[-P(0) + P(1)],\n",
       "[-P(1) + P(2)],\n",
       "[-P(2) + P(3)],\n",
       "[-P(3) + P(4)],\n",
       "[-P(4) + P(5)],\n",
       "[-P(5) + P(6)],\n",
       "[-P(6) + P(7)]])"
      ]
     },
     "execution_count": 14,
     "metadata": {},
     "output_type": "execute_result"
    }
   ],
   "source": [
    "def difference_operator(P_vect):\n",
    "    return sympy.Matrix([P_vect[i+1] - P_vect[i] for i in range(len(P_vect) - 1)])\n",
    "difference_operator(P_vect) #vel"
   ]
  },
  {
   "cell_type": "code",
   "execution_count": 16,
   "metadata": {
    "tags": []
   },
   "outputs": [
    {
     "data": {
      "text/latex": [
       "$\\displaystyle \\left[\\begin{matrix}P{\\left(0 \\right)} - 2 P{\\left(1 \\right)} + P{\\left(2 \\right)}\\\\P{\\left(1 \\right)} - 2 P{\\left(2 \\right)} + P{\\left(3 \\right)}\\\\P{\\left(2 \\right)} - 2 P{\\left(3 \\right)} + P{\\left(4 \\right)}\\\\P{\\left(3 \\right)} - 2 P{\\left(4 \\right)} + P{\\left(5 \\right)}\\\\P{\\left(4 \\right)} - 2 P{\\left(5 \\right)} + P{\\left(6 \\right)}\\\\P{\\left(5 \\right)} - 2 P{\\left(6 \\right)} + P{\\left(7 \\right)}\\end{matrix}\\right]$"
      ],
      "text/plain": [
       "Matrix([\n",
       "[P(0) - 2*P(1) + P(2)],\n",
       "[P(1) - 2*P(2) + P(3)],\n",
       "[P(2) - 2*P(3) + P(4)],\n",
       "[P(3) - 2*P(4) + P(5)],\n",
       "[P(4) - 2*P(5) + P(6)],\n",
       "[P(5) - 2*P(6) + P(7)]])"
      ]
     },
     "execution_count": 16,
     "metadata": {},
     "output_type": "execute_result"
    }
   ],
   "source": [
    "difference_operator(difference_operator(P_vect)) #second deriv"
   ]
  },
  {
   "cell_type": "code",
   "execution_count": 17,
   "metadata": {
    "tags": []
   },
   "outputs": [
    {
     "data": {
      "text/latex": [
       "$\\displaystyle \\left[\\begin{matrix}- P{\\left(0 \\right)} + 3 P{\\left(1 \\right)} - 3 P{\\left(2 \\right)} + P{\\left(3 \\right)}\\\\- P{\\left(1 \\right)} + 3 P{\\left(2 \\right)} - 3 P{\\left(3 \\right)} + P{\\left(4 \\right)}\\\\- P{\\left(2 \\right)} + 3 P{\\left(3 \\right)} - 3 P{\\left(4 \\right)} + P{\\left(5 \\right)}\\\\- P{\\left(3 \\right)} + 3 P{\\left(4 \\right)} - 3 P{\\left(5 \\right)} + P{\\left(6 \\right)}\\\\- P{\\left(4 \\right)} + 3 P{\\left(5 \\right)} - 3 P{\\left(6 \\right)} + P{\\left(7 \\right)}\\end{matrix}\\right]$"
      ],
      "text/plain": [
       "Matrix([\n",
       "[-P(0) + 3*P(1) - 3*P(2) + P(3)],\n",
       "[-P(1) + 3*P(2) - 3*P(3) + P(4)],\n",
       "[-P(2) + 3*P(3) - 3*P(4) + P(5)],\n",
       "[-P(3) + 3*P(4) - 3*P(5) + P(6)],\n",
       "[-P(4) + 3*P(5) - 3*P(6) + P(7)]])"
      ]
     },
     "execution_count": 17,
     "metadata": {},
     "output_type": "execute_result"
    }
   ],
   "source": [
    "difference_operator(difference_operator(difference_operator(P_vect))) #third deriv"
   ]
  },
  {
   "cell_type": "code",
   "execution_count": 2,
   "metadata": {
    "tags": []
   },
   "outputs": [],
   "source": [
    "# https://en.wikipedia.org/wiki/B%C3%A9zier_curve"
   ]
  },
  {
   "cell_type": "code",
   "execution_count": 3,
   "metadata": {
    "tags": []
   },
   "outputs": [
    {
     "data": {
      "text/latex": [
       "$\\displaystyle t^{5} P{\\left(5 \\right)} + 5 t^{4} \\cdot \\left(1 - t\\right) P{\\left(4 \\right)} + 10 t^{3} \\left(1 - t\\right)^{2} P{\\left(3 \\right)} + 10 t^{2} \\left(1 - t\\right)^{3} P{\\left(2 \\right)} + 5 t \\left(1 - t\\right)^{4} P{\\left(1 \\right)} + \\left(1 - t\\right)^{5} P{\\left(0 \\right)}$"
      ],
      "text/plain": [
       "t**5*P(5) + 5*t**4*(1 - t)*P(4) + 10*t**3*(1 - t)**2*P(3) + 10*t**2*(1 - t)**3*P(2) + 5*t*(1 - t)**4*P(1) + (1 - t)**5*P(0)"
      ]
     },
     "execution_count": 3,
     "metadata": {},
     "output_type": "execute_result"
    }
   ],
   "source": [
    "B.subs({n: 5}).doit()"
   ]
  },
  {
   "cell_type": "code",
   "execution_count": 8,
   "metadata": {
    "tags": []
   },
   "outputs": [
    {
     "data": {
      "text/latex": [
       "$\\displaystyle \\frac{n! \\sum_{i=0}^{j} \\frac{\\left(-1\\right)^{i + j} P{\\left(i \\right)}}{i! \\left(- i + j\\right)!}}{\\left(- j + n\\right)!}$"
      ],
      "text/plain": [
       "factorial(n)*Sum((-1)**(i + j)*P(i)/(factorial(i)*factorial(-i + j)), (i, 0, j))/factorial(-j + n)"
      ]
     },
     "execution_count": 8,
     "metadata": {},
     "output_type": "execute_result"
    }
   ],
   "source": [
    "C = sympy.factorial(n)/sympy.factorial(n - j)*summation((-1)**(i + j)*P(i)/(factorial(i)*factorial(j - i)), (i, 0, j))\n",
    "C"
   ]
  },
  {
   "cell_type": "code",
   "execution_count": 9,
   "metadata": {
    "tags": []
   },
   "outputs": [
    {
     "data": {
      "text/latex": [
       "$\\displaystyle \\left[\\begin{matrix}P{\\left(0 \\right)}\\\\- 6 P{\\left(0 \\right)} + 6 P{\\left(1 \\right)}\\\\15 P{\\left(0 \\right)} - 30 P{\\left(1 \\right)} + 15 P{\\left(2 \\right)}\\\\- 20 P{\\left(0 \\right)} + 60 P{\\left(1 \\right)} - 60 P{\\left(2 \\right)} + 20 P{\\left(3 \\right)}\\\\15 P{\\left(0 \\right)} - 60 P{\\left(1 \\right)} + 90 P{\\left(2 \\right)} - 60 P{\\left(3 \\right)} + 15 P{\\left(4 \\right)}\\\\- 6 P{\\left(0 \\right)} + 30 P{\\left(1 \\right)} - 60 P{\\left(2 \\right)} + 60 P{\\left(3 \\right)} - 30 P{\\left(4 \\right)} + 6 P{\\left(5 \\right)}\\end{matrix}\\right]$"
      ],
      "text/plain": [
       "Matrix([\n",
       "[                                                    P(0)],\n",
       "[                                        -6*P(0) + 6*P(1)],\n",
       "[                             15*P(0) - 30*P(1) + 15*P(2)],\n",
       "[                  -20*P(0) + 60*P(1) - 60*P(2) + 20*P(3)],\n",
       "[         15*P(0) - 60*P(1) + 90*P(2) - 60*P(3) + 15*P(4)],\n",
       "[-6*P(0) + 30*P(1) - 60*P(2) + 60*P(3) - 30*P(4) + 6*P(5)]])"
      ]
     },
     "execution_count": 9,
     "metadata": {},
     "output_type": "execute_result"
    }
   ],
   "source": [
    "n0 = 6\n",
    "\n",
    "P_vect = sympy.Matrix([P(i) for i in range(n0)])\n",
    "\n",
    "C_matrix = sympy.Matrix([C.subs({j: j0, n: n0}).doit() for j0 in range(n0)])\n",
    "C_matrix\n",
    "\n",
    "A = C_matrix.jacobian(P_vect)\n",
    "\n",
    "C_to_B = np.array(A.inv(), dtype=float)\n",
    "C_to_B\n",
    "\n",
    "C_matrix"
   ]
  },
  {
   "cell_type": "code",
   "execution_count": 10,
   "metadata": {
    "tags": []
   },
   "outputs": [
    {
     "data": {
      "text/latex": [
       "$\\displaystyle \\left[\\begin{matrix}1 & 0 & 0 & 0 & 0 & 0\\\\-6 & 6 & 0 & 0 & 0 & 0\\\\15 & -30 & 15 & 0 & 0 & 0\\\\-20 & 60 & -60 & 20 & 0 & 0\\\\15 & -60 & 90 & -60 & 15 & 0\\\\-6 & 30 & -60 & 60 & -30 & 6\\end{matrix}\\right]$"
      ],
      "text/plain": [
       "Matrix([\n",
       "[  1,   0,   0,   0,   0, 0],\n",
       "[ -6,   6,   0,   0,   0, 0],\n",
       "[ 15, -30,  15,   0,   0, 0],\n",
       "[-20,  60, -60,  20,   0, 0],\n",
       "[ 15, -60,  90, -60,  15, 0],\n",
       "[ -6,  30, -60,  60, -30, 6]])"
      ]
     },
     "execution_count": 10,
     "metadata": {},
     "output_type": "execute_result"
    }
   ],
   "source": [
    "A"
   ]
  },
  {
   "cell_type": "code",
   "execution_count": 6,
   "metadata": {
    "tags": []
   },
   "outputs": [
    {
     "data": {
      "text/plain": [
       "array([0.        , 0.        , 0.        , 0.39121887, 0.81869811,\n",
       "       0.90934906])"
      ]
     },
     "execution_count": 6,
     "metadata": {},
     "output_type": "execute_result"
    }
   ],
   "source": [
    "C0 = np.array([0, 0.0, 0.0, 7.824377367426159, -11.192660392995778, 4.368283025569619])\n",
    "C_to_B@C0"
   ]
  },
  {
   "cell_type": "code",
   "execution_count": 7,
   "metadata": {
    "tags": []
   },
   "outputs": [],
   "source": [
    "def de_casteljau(t, coefs):\n",
    "    beta = [c for c in coefs] # values in this list are overridden\n",
    "    n = len(beta)\n",
    "    for j in range(1, n):\n",
    "        for k in range(n - j):\n",
    "            beta[k] = beta[k] * (1 - t) + beta[k + 1] * t\n",
    "    return beta[0]"
   ]
  },
  {
   "cell_type": "code",
   "execution_count": null,
   "metadata": {},
   "outputs": [],
   "source": []
  }
 ],
 "metadata": {
  "kernelspec": {
   "display_name": "Python 3 (ipykernel)",
   "language": "python",
   "name": "python3"
  },
  "language_info": {
   "codemirror_mode": {
    "name": "ipython",
    "version": 3
   },
   "file_extension": ".py",
   "mimetype": "text/x-python",
   "name": "python",
   "nbconvert_exporter": "python",
   "pygments_lexer": "ipython3",
   "version": "3.10.6"
  },
  "vscode": {
   "interpreter": {
    "hash": "45febe76975722684d118080d9a6aaa642f14e6c45eb01bc920e7410e5dcfee2"
   }
  }
 },
 "nbformat": 4,
 "nbformat_minor": 4
}
