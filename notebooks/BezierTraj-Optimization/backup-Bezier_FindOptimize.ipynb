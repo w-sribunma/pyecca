{
 "cells": [
  {
   "cell_type": "code",
   "execution_count": 1188,
   "id": "2c28453b-6f6a-4401-992f-2272a167e6aa",
   "metadata": {
    "tags": []
   },
   "outputs": [],
   "source": [
    "# import sympy\n",
    "# import numpy as np\n",
    "# import scipy.optimize\n",
    "# import matplotlib.pyplot as plt\n",
    "# import matplotlib.cm as cm\n",
    "# import matplotlib.colors as colors"
   ]
  },
  {
   "cell_type": "code",
   "execution_count": 1189,
   "id": "37ee8908-1fe7-455e-b8ae-54991159272d",
   "metadata": {},
   "outputs": [
    {
     "data": {
      "text/latex": [
       "$\\displaystyle \\left[\\begin{matrix}P{\\left(0 \\right)} & P{\\left(1 \\right)} & P{\\left(2 \\right)} & P{\\left(3 \\right)} & P{\\left(4 \\right)} & P{\\left(5 \\right)}\\end{matrix}\\right]$"
      ],
      "text/plain": [
       "Matrix([[P(0), P(1), P(2), P(3), P(4), P(5)]])"
      ]
     },
     "execution_count": 1189,
     "metadata": {},
     "output_type": "execute_result"
    }
   ],
   "source": [
    "import numpy as np\n",
    "import sympy\n",
    "import sympy as sy\n",
    "from sympy import symbols, factorial, Function, summation, binomial, product\n",
    "import scipy.optimize\n",
    "import matplotlib.pyplot as plt\n",
    "n, i, j, m = symbols('n, i, j, m', integer=True, real=True)\n",
    "\n",
    "t = symbols('t')\n",
    "P = Function('P') #Position Function as a function of time\n",
    "\n",
    "deg = 6 #Bezier degree\n",
    "\n",
    "B = summation(binomial(n, i)*(1 - t)**(n-i)*t**i*P(i), (i, 0, n))\n",
    "P_vect = (sympy.Matrix([P(i) for i in range(deg)])).T #Bezier 6 uses range(6)?\n",
    "P_vect"
   ]
  },
  {
   "cell_type": "code",
   "execution_count": 1190,
   "id": "6f83a201-bdc9-4bfd-a3ac-4195cc14a6ff",
   "metadata": {
    "tags": []
   },
   "outputs": [
    {
     "data": {
      "text/latex": [
       "$\\displaystyle \\sum_{i=0}^{n} t^{i} \\left(1 - t\\right)^{- i + n} P{\\left(i \\right)} {\\binom{n}{i}}$"
      ],
      "text/plain": [
       "Sum(t**i*(1 - t)**(-i + n)*P(i)*binomial(n, i), (i, 0, n))"
      ]
     },
     "execution_count": 1190,
     "metadata": {},
     "output_type": "execute_result"
    }
   ],
   "source": [
    "B #Bezier Summation"
   ]
  },
  {
   "cell_type": "code",
   "execution_count": 1191,
   "id": "bd5a8a41-b3ee-490a-a75f-f29e586b0794",
   "metadata": {
    "tags": []
   },
   "outputs": [
    {
     "data": {
      "text/latex": [
       "$\\displaystyle t^{6} P{\\left(6 \\right)} + 6 t^{5} \\left(1 - t\\right) P{\\left(5 \\right)} + 15 t^{4} \\left(1 - t\\right)^{2} P{\\left(4 \\right)} + 20 t^{3} \\left(1 - t\\right)^{3} P{\\left(3 \\right)} + 15 t^{2} \\left(1 - t\\right)^{4} P{\\left(2 \\right)} + 6 t \\left(1 - t\\right)^{5} P{\\left(1 \\right)} + \\left(1 - t\\right)^{6} P{\\left(0 \\right)}$"
      ],
      "text/plain": [
       "t**6*P(6) + 6*t**5*(1 - t)*P(5) + 15*t**4*(1 - t)**2*P(4) + 20*t**3*(1 - t)**3*P(3) + 15*t**2*(1 - t)**4*P(2) + 6*t*(1 - t)**5*P(1) + (1 - t)**6*P(0)"
      ]
     },
     "execution_count": 1191,
     "metadata": {},
     "output_type": "execute_result"
    }
   ],
   "source": [
    "Bez6 = B.subs(n,6).doit() #bezier n = 6\n",
    "Bez6"
   ]
  },
  {
   "cell_type": "code",
   "execution_count": 1192,
   "id": "955bac18-bf1f-4271-ac6a-50354f124aa7",
   "metadata": {
    "tags": []
   },
   "outputs": [],
   "source": [
    "Bez6_d = sympy.diff(Bez6,t) #derivative of bezier n =6\n",
    "# Bez6_d.collect(P_d[0]) #fix"
   ]
  },
  {
   "cell_type": "code",
   "execution_count": 1193,
   "id": "922d76c8-8a8a-4224-a564-2fec8759827e",
   "metadata": {
    "tags": []
   },
   "outputs": [],
   "source": [
    "Bez6_d2 = sympy.diff(Bez6_d,t) #double deriv of bezier n=6\n",
    "# Bez6_d2"
   ]
  },
  {
   "cell_type": "code",
   "execution_count": 1194,
   "id": "f73ac7c0-7a69-4e3f-bd6a-5407594e09db",
   "metadata": {
    "tags": []
   },
   "outputs": [],
   "source": [
    "Bez6_d3 = sympy.diff(Bez6_d2,t) #double deriv of bezier n=6\n",
    "# Bez6_d3"
   ]
  },
  {
   "cell_type": "code",
   "execution_count": 1195,
   "id": "ec9e4602-9fe2-486f-bb39-a41d72dc1d22",
   "metadata": {
    "tags": []
   },
   "outputs": [
    {
     "data": {
      "text/latex": [
       "$\\displaystyle \\left[\\begin{matrix}P{\\left(0 \\right)} & P{\\left(1 \\right)} & P{\\left(2 \\right)} & P{\\left(3 \\right)} & P{\\left(4 \\right)} & P{\\left(5 \\right)}\\end{matrix}\\right]$"
      ],
      "text/plain": [
       "Matrix([[P(0), P(1), P(2), P(3), P(4), P(5)]])"
      ]
     },
     "execution_count": 1195,
     "metadata": {},
     "output_type": "execute_result"
    }
   ],
   "source": [
    "P_vect"
   ]
  },
  {
   "cell_type": "code",
   "execution_count": 1196,
   "id": "3b08063a-50a8-41ee-b383-ac00d4af85b7",
   "metadata": {
    "tags": []
   },
   "outputs": [
    {
     "data": {
      "text/latex": [
       "$\\displaystyle \\left[\\begin{matrix}- P{\\left(0 \\right)} + P{\\left(1 \\right)} & - P{\\left(1 \\right)} + P{\\left(2 \\right)} & - P{\\left(2 \\right)} + P{\\left(3 \\right)} & - P{\\left(3 \\right)} + P{\\left(4 \\right)} & - P{\\left(4 \\right)} + P{\\left(5 \\right)}\\end{matrix}\\right]$"
      ],
      "text/plain": [
       "Matrix([[-P(0) + P(1), -P(1) + P(2), -P(2) + P(3), -P(3) + P(4), -P(4) + P(5)]])"
      ]
     },
     "execution_count": 1196,
     "metadata": {},
     "output_type": "execute_result"
    }
   ],
   "source": [
    "def difference_operator(P_vect, j=1): #check if j must be 1\n",
    "    return sympy.Matrix([P_vect[i+1] - P_vect[i] for i in range(len(P_vect) - j)]).T\n",
    "P_d = difference_operator(P_vect) #vel\n",
    "P_d"
   ]
  },
  {
   "cell_type": "code",
   "execution_count": 1197,
   "id": "72722eed-5481-4ecc-b701-3b26737d5d38",
   "metadata": {
    "tags": []
   },
   "outputs": [],
   "source": [
    "## Compute P terms for each derivatives in Bezier domain\n",
    "def P_deriv(deriv, n=3):\n",
    "    P_vect = (sympy.Matrix([P(i) for i in range (6)])).T #i in range is Arbitary depending on Bezier_deriv\n",
    "    P_deriv = P_vect #temporary derivative term\n",
    "    for i in range(deriv):\n",
    "        P_deriv = difference_operator(P_deriv)\n",
    "    return P_deriv\n",
    "\n",
    "deriv = 3 #for jerk\n",
    "# P_deriv(deriv)"
   ]
  },
  {
   "cell_type": "code",
   "execution_count": 1198,
   "id": "b9e982a0-e523-426e-98c0-1d74e0270da3",
   "metadata": {
    "tags": []
   },
   "outputs": [],
   "source": [
    "class Bezier:\n",
    "#https://en.wikipedia.org/wiki/B%C3%A9zier_curve\n",
    "\n",
    "    def __init__(self, P, T: float):\n",
    "        self.P = P\n",
    "        self.m = P.shape[0]\n",
    "        self.n = P.shape[1]-1\n",
    "        self.T = T\n",
    "    \n",
    "    def eval(self, t):\n",
    "        #https://en.wikipedia.org/wiki/De_Casteljau%27s_algorithm\n",
    "        beta = t/self.T\n",
    "        A = sympy.Matrix(self.P)\n",
    "        for j in range(1, self.n + 1):\n",
    "            for k in range(self.n + 1 - j):\n",
    "                A[:, k] = A[:, k] * (1 - beta) + A[:, k + 1] * beta\n",
    "        return A[:, 0]\n",
    "\n",
    "    def deriv(self, m=1):\n",
    "        D_sy = sympy.Matrix(self.P)\n",
    "        diff_calc = sympy.zeros(D_sy.shape[0]-1,1).T\n",
    "        for j in range(1, m+1): #should range start from 1 or 0???\n",
    "            diff_calc = diff_calc.row_join(difference_operator(D_sy,j))\n",
    "            D_soln = (self.n +1 -j)*diff_calc  #constant term is 5? or 4? is it P_vect.shape[1]-1?\n",
    "        return Bezier(D_soln/self.T**m, self.T)\n",
    "    \n"
   ]
  },
  {
   "attachments": {},
   "cell_type": "markdown",
   "id": "3c1acf5e",
   "metadata": {},
   "source": [
    "Bezier Path Planning in sympy"
   ]
  },
  {
   "cell_type": "code",
   "execution_count": 1199,
   "id": "b9f8b3b6-d800-405e-b742-0074c3ae4e37",
   "metadata": {},
   "outputs": [],
   "source": [
    "import casadi as ca\n",
    "\n",
    "class Bezier_ca:\n",
    "#https://en.wikipedia.org/wiki/B%C3%A9zier_curve\n",
    "\n",
    "    def __init__(self, P: ca.SX, T: float):\n",
    "        self.P = P\n",
    "        self.m = P.shape[0]\n",
    "        self.n = P.shape[1]-1\n",
    "        self.T = T\n",
    "    \n",
    "    def eval(self, t):\n",
    "        #https://en.wikipedia.org/wiki/De_Casteljau%27s_algorithm\n",
    "        beta = t/self.T\n",
    "        A = ca.SX(self.P)\n",
    "        for j in range(1, self.n + 1):\n",
    "            for k in range(self.n + 1 - j):\n",
    "                A[:, k] = A[:, k] * (1 - beta) + A[:, k + 1] * beta\n",
    "        return A[:, 0]\n",
    "    \n",
    "    def deriv(self, m=1):\n",
    "        D = ca.SX(self.P)\n",
    "        for j in range(0, m):\n",
    "            D = (self.n - j)*ca.horzcat(*[ D[:, i+1] - D[:, i] for i in range(self.n - j) ])\n",
    "        return Bezier_ca(D/self.T**m, self.T)"
   ]
  },
  {
   "cell_type": "code",
   "execution_count": 1200,
   "id": "7e1a1fe6-5f85-4b69-afd9-c1cb62c6b5ef",
   "metadata": {},
   "outputs": [],
   "source": [
    "P_ca = ca.SX.sym('P', 1, 6)\n",
    "B_ca = Bezier_ca(P_ca, 1)#.eval(0)"
   ]
  },
  {
   "cell_type": "code",
   "execution_count": 1201,
   "id": "e17c0b5e-e93f-42a7-96a1-142d1b39d9c5",
   "metadata": {
    "tags": []
   },
   "outputs": [
    {
     "data": {
      "text/plain": [
       "SX([[P_0, P_1, P_2, P_3, P_4, P_5]])"
      ]
     },
     "metadata": {},
     "output_type": "display_data"
    },
    {
     "data": {
      "text/latex": [
       "$\\displaystyle \\left[\\begin{matrix}P{\\left(0 \\right)} & P{\\left(1 \\right)} & P{\\left(2 \\right)} & P{\\left(3 \\right)} & P{\\left(4 \\right)} & P{\\left(5 \\right)}\\end{matrix}\\right]$"
      ],
      "text/plain": [
       "Matrix([[P(0), P(1), P(2), P(3), P(4), P(5)]])"
      ]
     },
     "metadata": {},
     "output_type": "display_data"
    }
   ],
   "source": [
    "display(P_ca)\n",
    "display(P_vect)"
   ]
  },
  {
   "cell_type": "code",
   "execution_count": 1202,
   "id": "0e1be814-7c11-4d93-84e9-f4d50986a9af",
   "metadata": {},
   "outputs": [],
   "source": [
    "# B_sy = Bezier(P_vect,1)\n",
    "# B_sy_d = B_sy.deriv()\n",
    "# B_sy_d.eval(0)"
   ]
  },
  {
   "cell_type": "code",
   "execution_count": 1203,
   "id": "87aaa58f-85f1-4e3b-90c0-43fd8ea77999",
   "metadata": {
    "tags": []
   },
   "outputs": [],
   "source": [
    "def find_Q(deriv, poly_deg, n_legs):\n",
    "    \"\"\"\n",
    "    Finds the cost matrix Q\n",
    "    @param deriv: for cost J, 0=position, 1=velocity, etc.\n",
    "    @param poly_deg: degree of polynomial\n",
    "    @n_legs: number of legs in trajectory (num. waypoints - 1)\n",
    "    @return Q matrix for cost J = p^T Q p\n",
    "    \"\"\"\n",
    "    k, l, m, n, n_c, n_l = sympy.symbols('k, l, m, n, n_c, n_l', integer=True)\n",
    "    # k summation dummy variable\n",
    "    # n deg of polynomial\n",
    "\n",
    "    beta = sympy.symbols('beta')  # scaled time on leg, 0-1\n",
    "    c = sympy.MatrixSymbol('c', n_c, 1)  # coefficient matrices, length is n+1, must be variable (n_c)\n",
    "    T = sympy.symbols('T')  # time of leg\n",
    "    P = sympy.summation(c[k, 0]*sympy.factorial(k)/sympy.factorial(k-m)*beta**(k-m)/T**m, (k, m, n))  # polynomial derivative\n",
    "    P = P.subs({m: deriv, n: poly_deg}).doit() #B\n",
    "    J = sympy.integrate(P**2, (beta, 0, 1)).doit()  # cost\n",
    "    p = sympy.Matrix([c[i, 0] for i in range(poly_deg+1)])  # vector of terms\n",
    "    Q = sympy.Matrix([J]).jacobian(p).jacobian(p)/2  # find Q using second derivative\n",
    "    assert (p.T@Q@p)[0, 0].expand() == J  # assert hessian matches cost\n",
    "    \n",
    "    Ti = sympy.MatrixSymbol('T', n_l, 1)\n",
    "    return sympy.diag(*[\n",
    "        Q.subs(T, Ti[i]) for i in range(n_legs) ])\n",
    "    # return Q\n",
    "\n",
    "\n",
    "#penalize jerk --> deriv = 3 for find_Q"
   ]
  },
  {
   "cell_type": "code",
   "execution_count": 1204,
   "id": "3e60f12b-d15c-4cc6-8637-7c002d5c98ca",
   "metadata": {
    "tags": []
   },
   "outputs": [],
   "source": [
    "# find_Q(3,4,1)"
   ]
  },
  {
   "attachments": {},
   "cell_type": "markdown",
   "id": "30e731a4",
   "metadata": {},
   "source": [
    "Bezier Cost Function"
   ]
  },
  {
   "attachments": {},
   "cell_type": "markdown",
   "id": "f7e0a974",
   "metadata": {},
   "source": [
    "$ p * Q * p.T$\n",
    "\n",
    "p = coefficient matrix for each constraints\n",
    "\n",
    "Q = Hessian Matrix derived in Bezier form penalizing jerk\n",
    "$Q = intergral(Jerk)^2.jacobian(p).jacobian(p)/2$"
   ]
  },
  {
   "cell_type": "code",
   "execution_count": 1205,
   "id": "c5a4dedc-42bd-4a6e-9f1f-8e941057d33f",
   "metadata": {},
   "outputs": [
    {
     "data": {
      "text/latex": [
       "$\\displaystyle \\left[\\begin{matrix}\\frac{3600}{T^{6}} - \\frac{7200}{T^{7}} + \\frac{7200}{T^{8}} - \\frac{3600}{T^{9}} + \\frac{720}{T^{10}} & - \\frac{10800}{T^{6}} + \\frac{25200}{T^{7}} - \\frac{28800}{T^{8}} + \\frac{16200}{T^{9}} - \\frac{3600}{T^{10}} & \\frac{10800}{T^{6}} - \\frac{32400}{T^{7}} + \\frac{44400}{T^{8}} - \\frac{28800}{T^{9}} + \\frac{7200}{T^{10}} & - \\frac{3600}{T^{6}} + \\frac{18000}{T^{7}} - \\frac{32400}{T^{8}} + \\frac{25200}{T^{9}} - \\frac{7200}{T^{10}} & - \\frac{3600}{T^{7}} + \\frac{10800}{T^{8}} - \\frac{10800}{T^{9}} + \\frac{3600}{T^{10}} & - \\frac{1200}{T^{8}} + \\frac{1800}{T^{9}} - \\frac{720}{T^{10}}\\\\- \\frac{10800}{T^{6}} + \\frac{25200}{T^{7}} - \\frac{28800}{T^{8}} + \\frac{16200}{T^{9}} - \\frac{3600}{T^{10}} & \\frac{32400}{T^{6}} - \\frac{86400}{T^{7}} + \\frac{112800}{T^{8}} - \\frac{72000}{T^{9}} + \\frac{18000}{T^{10}} & - \\frac{32400}{T^{6}} + \\frac{108000}{T^{7}} - \\frac{169200}{T^{8}} + \\frac{126000}{T^{9}} - \\frac{36000}{T^{10}} & \\frac{10800}{T^{6}} - \\frac{57600}{T^{7}} + \\frac{118800}{T^{8}} - \\frac{108000}{T^{9}} + \\frac{36000}{T^{10}} & \\frac{10800}{T^{7}} - \\frac{37200}{T^{8}} + \\frac{45000}{T^{9}} - \\frac{18000}{T^{10}} & \\frac{3600}{T^{8}} - \\frac{7200}{T^{9}} + \\frac{3600}{T^{10}}\\\\\\frac{10800}{T^{6}} - \\frac{32400}{T^{7}} + \\frac{44400}{T^{8}} - \\frac{28800}{T^{9}} + \\frac{7200}{T^{10}} & - \\frac{32400}{T^{6}} + \\frac{108000}{T^{7}} - \\frac{169200}{T^{8}} + \\frac{126000}{T^{9}} - \\frac{36000}{T^{10}} & \\frac{32400}{T^{6}} - \\frac{129600}{T^{7}} + \\frac{244800}{T^{8}} - \\frac{216000}{T^{9}} + \\frac{72000}{T^{10}} & - \\frac{10800}{T^{6}} + \\frac{64800}{T^{7}} - \\frac{163200}{T^{8}} + \\frac{180000}{T^{9}} - \\frac{72000}{T^{10}} & - \\frac{10800}{T^{7}} + \\frac{46800}{T^{8}} - \\frac{72000}{T^{9}} + \\frac{36000}{T^{10}} & - \\frac{3600}{T^{8}} + \\frac{10800}{T^{9}} - \\frac{7200}{T^{10}}\\\\- \\frac{3600}{T^{6}} + \\frac{18000}{T^{7}} - \\frac{32400}{T^{8}} + \\frac{25200}{T^{9}} - \\frac{7200}{T^{10}} & \\frac{10800}{T^{6}} - \\frac{57600}{T^{7}} + \\frac{118800}{T^{8}} - \\frac{108000}{T^{9}} + \\frac{36000}{T^{10}} & - \\frac{10800}{T^{6}} + \\frac{64800}{T^{7}} - \\frac{163200}{T^{8}} + \\frac{180000}{T^{9}} - \\frac{72000}{T^{10}} & \\frac{3600}{T^{6}} - \\frac{28800}{T^{7}} + \\frac{100800}{T^{8}} - \\frac{144000}{T^{9}} + \\frac{72000}{T^{10}} & \\frac{3600}{T^{7}} - \\frac{25200}{T^{8}} + \\frac{54000}{T^{9}} - \\frac{36000}{T^{10}} & \\frac{1200}{T^{8}} - \\frac{7200}{T^{9}} + \\frac{7200}{T^{10}}\\\\- \\frac{3600}{T^{7}} + \\frac{10800}{T^{8}} - \\frac{10800}{T^{9}} + \\frac{3600}{T^{10}} & \\frac{10800}{T^{7}} - \\frac{37200}{T^{8}} + \\frac{45000}{T^{9}} - \\frac{18000}{T^{10}} & - \\frac{10800}{T^{7}} + \\frac{46800}{T^{8}} - \\frac{72000}{T^{9}} + \\frac{36000}{T^{10}} & \\frac{3600}{T^{7}} - \\frac{25200}{T^{8}} + \\frac{54000}{T^{9}} - \\frac{36000}{T^{10}} & \\frac{4800}{T^{8}} - \\frac{18000}{T^{9}} + \\frac{18000}{T^{10}} & \\frac{1800}{T^{9}} - \\frac{3600}{T^{10}}\\\\- \\frac{1200}{T^{8}} + \\frac{1800}{T^{9}} - \\frac{720}{T^{10}} & \\frac{3600}{T^{8}} - \\frac{7200}{T^{9}} + \\frac{3600}{T^{10}} & - \\frac{3600}{T^{8}} + \\frac{10800}{T^{9}} - \\frac{7200}{T^{10}} & \\frac{1200}{T^{8}} - \\frac{7200}{T^{9}} + \\frac{7200}{T^{10}} & \\frac{1800}{T^{9}} - \\frac{3600}{T^{10}} & \\frac{720}{T^{10}}\\end{matrix}\\right]$"
      ],
      "text/plain": [
       "Matrix([\n",
       "[      3600/T**6 - 7200/T**7 + 7200/T**8 - 3600/T**9 + 720/T**10,     -10800/T**6 + 25200/T**7 - 28800/T**8 + 16200/T**9 - 3600/T**10,      10800/T**6 - 32400/T**7 + 44400/T**8 - 28800/T**9 + 7200/T**10,     -3600/T**6 + 18000/T**7 - 32400/T**8 + 25200/T**9 - 7200/T**10,   -3600/T**7 + 10800/T**8 - 10800/T**9 + 3600/T**10,   -1200/T**8 + 1800/T**9 - 720/T**10],\n",
       "[-10800/T**6 + 25200/T**7 - 28800/T**8 + 16200/T**9 - 3600/T**10,    32400/T**6 - 86400/T**7 + 112800/T**8 - 72000/T**9 + 18000/T**10, -32400/T**6 + 108000/T**7 - 169200/T**8 + 126000/T**9 - 36000/T**10,  10800/T**6 - 57600/T**7 + 118800/T**8 - 108000/T**9 + 36000/T**10,  10800/T**7 - 37200/T**8 + 45000/T**9 - 18000/T**10,   3600/T**8 - 7200/T**9 + 3600/T**10],\n",
       "[ 10800/T**6 - 32400/T**7 + 44400/T**8 - 28800/T**9 + 7200/T**10, -32400/T**6 + 108000/T**7 - 169200/T**8 + 126000/T**9 - 36000/T**10,  32400/T**6 - 129600/T**7 + 244800/T**8 - 216000/T**9 + 72000/T**10, -10800/T**6 + 64800/T**7 - 163200/T**8 + 180000/T**9 - 72000/T**10, -10800/T**7 + 46800/T**8 - 72000/T**9 + 36000/T**10, -3600/T**8 + 10800/T**9 - 7200/T**10],\n",
       "[ -3600/T**6 + 18000/T**7 - 32400/T**8 + 25200/T**9 - 7200/T**10,   10800/T**6 - 57600/T**7 + 118800/T**8 - 108000/T**9 + 36000/T**10,  -10800/T**6 + 64800/T**7 - 163200/T**8 + 180000/T**9 - 72000/T**10,   3600/T**6 - 28800/T**7 + 100800/T**8 - 144000/T**9 + 72000/T**10,   3600/T**7 - 25200/T**8 + 54000/T**9 - 36000/T**10,   1200/T**8 - 7200/T**9 + 7200/T**10],\n",
       "[              -3600/T**7 + 10800/T**8 - 10800/T**9 + 3600/T**10,                  10800/T**7 - 37200/T**8 + 45000/T**9 - 18000/T**10,                 -10800/T**7 + 46800/T**8 - 72000/T**9 + 36000/T**10,                  3600/T**7 - 25200/T**8 + 54000/T**9 - 36000/T**10,                4800/T**8 - 18000/T**9 + 18000/T**10,               1800/T**9 - 3600/T**10],\n",
       "[                             -1200/T**8 + 1800/T**9 - 720/T**10,                                  3600/T**8 - 7200/T**9 + 3600/T**10,                                -3600/T**8 + 10800/T**9 - 7200/T**10,                                 1200/T**8 - 7200/T**9 + 7200/T**10,                              1800/T**9 - 3600/T**10,                            720/T**10]])"
      ]
     },
     "execution_count": 1205,
     "metadata": {},
     "output_type": "execute_result"
    }
   ],
   "source": [
    "def find_Q_Bez(bez_deg, n_legs=1): #Bezier 6 = bez_deg =6\n",
    "    \"\"\"\n",
    "    Finds the cost matrix Q\n",
    "    @param deriv: for cost J, 0=position, 1=velocity, etc.\n",
    "    @param poly_deg: degree of polynomial\n",
    "    @n_legs: number of legs in trajectory (num. waypoints - 1)\n",
    "    @return Q matrix for cost J = p^T Q p\n",
    "    \"\"\"\n",
    "    k, l, m, n, n_c, n_l = sympy.symbols('k, l, m, n, n_c, n_l', integer=True)\n",
    "    # k summation dummy variable\n",
    "    # n deg of polynomial\n",
    "\n",
    "    beta = sympy.symbols('beta')  # scaled time on leg, 0-1\n",
    "    c = sympy.MatrixSymbol('c', n_c, 1)  # coefficient matrices, length is n+1, must be variable (n_c)\n",
    "    T = sympy.symbols('T')  # time of leg\n",
    "    t = sympy.symbols('t')  # evaluate at time t \n",
    "    P= Function('P')\n",
    "    P_c = (sympy.Matrix([P(i) for i in range(bez_deg)])).T #Bezier Positon Matrices length = n     #must be variable (n_c)\n",
    "    Bez6 = Bezier(P_c,T)\n",
    "    B_d3 = Bez6.deriv().deriv().deriv()    # 3rd derivative for jerk; 4th deriv for snap\n",
    "    \n",
    "    Jerk = B_d3.eval(t)                         #evaluate Bezier at t\n",
    "    J = (Jerk@Jerk.T).doit()                    #square of jerk term\n",
    "    J = sympy.integrate(J, (t, 0, 1)).doit()    # cost\n",
    "    \n",
    "    p = sympy.Matrix([c[i, 0] for i in range(bez_deg+1)])  # vector of terms\n",
    "    Q = sympy.Matrix([J]).jacobian(P_c).jacobian(P_c)/2  # find Q using second derivative, P_c or p for jacobian\n",
    "    # assert (p.T@Q@p)[0, 0].expand() == J  # assert hessian matches cost\n",
    "\n",
    "    Ti = sympy.MatrixSymbol('T', n_l, 1)\n",
    "    \n",
    "    return J, Q\n",
    "        #     sympy.diag(*[\n",
    "        # Q.subs(T, Ti[i]) for i in range(n_legs) ])\n",
    "find_Q_Bez(6)[1]"
   ]
  },
  {
   "attachments": {},
   "cell_type": "markdown",
   "id": "dce34f5c",
   "metadata": {},
   "source": [
    "Deriving Coefficient Matrix p from Bezier Constraints"
   ]
  },
  {
   "cell_type": "code",
   "execution_count": 1206,
   "id": "c8750929-60db-4d4f-9a23-2df623605a62",
   "metadata": {
    "tags": []
   },
   "outputs": [],
   "source": [
    "def derive_bezier6():\n",
    "    n = 6 #Bezier Degree\n",
    "    T = sympy.Symbol('T') #ca.SX.sym('T')\n",
    "    t = sympy.Symbol('t') #ca.SX.sym('t')                       \n",
    "    P= Function('P')       # P = ca.SX.sym('P', 1, n)\n",
    "    P_c = (sympy.Matrix([P(i) for i in range(n)])).T #Bezier Positon Matrices length = n\n",
    "    B = Bezier(P_c, T)\n",
    "\n",
    "    # derivatives\n",
    "    B_d = B.deriv()\n",
    "    B_d2 = B_d.deriv()\n",
    "    B_d3 = B_d2.deriv()\n",
    "    B_d4 = B_d3.deriv()\n",
    "\n",
    "    # boundary conditions\n",
    "\n",
    "    # trajectory\n",
    "    p = B.eval(t)\n",
    "    v = B_d.eval(t)\n",
    "    a = B_d2.eval(t)\n",
    "    r = sy.Matrix.vstack(p,v,a)    #ca.vertcat(p, v, a)\n",
    "\n",
    "    # given position/velocity boundary conditions, solve for bezier points\n",
    "    wp_0 = sympy.MatrixSymbol('ptin', 2, 1) #ca.SX.sym('p0', 2, 1)  # pos/vel at waypoint 0\n",
    "    wp_1 = sympy.MatrixSymbol('ptone', 2, 1) #ca.SX.sym('p1', 2, 1)  # pos/vel at waypoint 1\n",
    "\n",
    "    constraints = []\n",
    "    constraints += [(B.eval(0), wp_0[0])]  # pos @ wp0\n",
    "    constraints += [(B_d.eval(0), wp_0[1])]  # vel @ wp0\n",
    "    constraints += [(B_d2.eval(0), 0)]  # zero accel @ wp0\n",
    "    constraints += [(B.eval(T), wp_1[0])]  # pos @ wp1\n",
    "    constraints += [(B_d.eval(T), wp_1[1])]  # vel @ wp1\n",
    "    constraints += [(B_d2.eval(T), 0)]  # zero accel @ wp1\n",
    "\n",
    "    assert len(constraints) == 6\n",
    "\n",
    "    Y = sy.Matrix.vstack(*[c[0] for c in constraints])  #ca.vertcat(*[c[0] for c in constraints])\n",
    "    b = sy.Matrix([c[1] for c in constraints])   #ca.vertcat(*[c[1] for c in constraints])\n",
    "    A = Y.jacobian(P_c)\n",
    "    A_inv = A.inv()\n",
    "    P_sol = (A_inv@b).T\n",
    "    return {\n",
    "        'bezier6_solve': P_sol,#.subs(wp_0,[1,2]).subs(wp_1,[1,2]) #ca.Function('bezier6_solve', [wp_0, wp_1, T], [P_sol], ['wp_0', 'wp_1', 'T'], ['P']),\n",
    "        'bezier6_traj': r #ca.Function('bezier6_traj', [t, T, P], [r], ['t', 'T', 'P'], ['r']),\n",
    "    }\n",
    "    # return sympy.diag(*[\n",
    "    #     Q.subs(T, Ti[i]) for i in range(n_legs) ])"
   ]
  },
  {
   "cell_type": "code",
   "execution_count": 1207,
   "id": "8067f1fa-8519-4ead-8834-8986f3cb4e9c",
   "metadata": {
    "tags": []
   },
   "outputs": [],
   "source": [
    "# #RUNNING BEZIER constraint coefficient matrix\n",
    "\n",
    "# wp_0 = sympy.MatrixSymbol('ptin', 2, 1) #ca.SX.sym('p0', 2, 1)  # pos/vel at waypoint 0\n",
    "# wp_1 = sympy.MatrixSymbol('ptone',2,1)\n",
    "\n",
    "# #INPUTS\n",
    "# wpVal0 = [0,1] #Waypoint value in [pos, vel] for wp0\n",
    "# wpVal1 = [2,3] #Waypoint value in [pos, vel] for wp1\n",
    "# # T_l = 4 #input Time T\n",
    "\n",
    "# p_constr = derive_bezier6()['bezier6_solve'] #Bezier Coefficient\n",
    "# for i in range(wp_0.shape[0]):\n",
    "#     p_constr = p_constr.subs(wp_0[i],wpVal0[i]).subs(wp_1[i],wpVal1[i])\n",
    "    \n",
    "# # p_constr = p_constr.subs(T,T_l) #Substitute T value\n",
    "\n",
    "# p_constr"
   ]
  },
  {
   "cell_type": "code",
   "execution_count": 1208,
   "id": "15f0d2e2",
   "metadata": {},
   "outputs": [
    {
     "data": {
      "text/latex": [
       "$\\displaystyle \\frac{48 \\left(243 T^{6} - 2106 T^{5} + 8104 T^{4} - 16260 T^{3} + 17580 T^{2} - 9720 T + 2160\\right)}{T^{10}}$"
      ],
      "text/plain": [
       "48*(243*T**6 - 2106*T**5 + 8104*T**4 - 16260*T**3 + 17580*T**2 - 9720*T + 2160)/T**10"
      ]
     },
     "execution_count": 1208,
     "metadata": {},
     "output_type": "execute_result"
    }
   ],
   "source": [
    "def find_cost_function(bez_deg, wpVal0, wpVal1, n_legs = 1):\n",
    "    ''' \n",
    "    Takes bezier degree, initial waypoint, and final waypoint\n",
    "    waypoints are [position 1, velocity 1] in sympy Matrix type\n",
    "    outputs cost function, J_total\n",
    "    '''\n",
    "    T = sympy.Symbol('T')\n",
    "    wp_0 = sympy.MatrixSymbol('ptin', 2, 1) #pos/vel at waypoint 0\n",
    "    wp_1 = sympy.MatrixSymbol('ptone',2,1)    \n",
    "\n",
    "    Q_Bez = find_Q_Bez(6,n_legs)[1]\n",
    "    p_constr = derive_bezier6()['bezier6_solve'] #Bezier Coefficient\n",
    "    for i in range(len(wpVal0)):\n",
    "        p_constr = p_constr.subs(wp_0[i],wpVal0[i]).subs(wp_1[i],wpVal1[i])\n",
    "    pBez =p_constr#.subs(T,T)\n",
    "\n",
    "    # display(sympy.Matrix(Ti))\n",
    "    #T could be fixed to vary with n_legs\n",
    "    J_total = (((pBez@Q_Bez@pBez.T)[0,0]).simplify()) #Jtotal term for optimized cost calculation\n",
    "\n",
    "    return J_total\n",
    "find_cost_function(6,[0,1],[2,3],1)"
   ]
  },
  {
   "cell_type": "code",
   "execution_count": 1209,
   "id": "95b1ffad",
   "metadata": {},
   "outputs": [
    {
     "data": {
      "text/plain": [
       "<function __main__.find_opt_time(bez_deg, bc, n_legs=1)>"
      ]
     },
     "execution_count": 1209,
     "metadata": {},
     "output_type": "execute_result"
    }
   ],
   "source": [
    "# def find_opt_time(bez_deg, wpVal0, wpVal1, n_legs =1):\n",
    "def find_opt_time(bez_deg, bc, n_legs = 1):\n",
    "    '''\n",
    "    Takes bezier degree, initial waypoint, and final waypoint\n",
    "    waypoints are [[position], [velocity]]\n",
    "    \n",
    "    Using Scipy.Optimize function, outputs optimized leg time\n",
    "    '''\n",
    "\n",
    "    T = sympy.Symbol('T')\n",
    "    Ti = sympy.symbols('T_0:{:d}'.format(n_legs))\n",
    "    k = sympy.symbols('k') #weight on time\n",
    "    t_temp = 1 ## Set temporary time eval, t for optimization calculate\n",
    "\n",
    "    J_total_x = find_cost_function(bez_deg, bc[:,0, 0], bc[:, 1, 0], n_legs)\n",
    "    J_total_y = find_cost_function(bez_deg, bc[:,0, 1], bc[:, 1, 1], n_legs)\n",
    "    J_total_z = find_cost_function(bez_deg, bc[:,0, 2], bc[:, 1, 2], n_legs)\n",
    "\n",
    "    J_total = J_total_x + J_total_y + J_total_z + k * sum(Ti)# Sum of all components' jerk term\n",
    "    # n_legs =1\n",
    "    J_total = J_total.subs(T,sy.Matrix(Ti)).doit()\n",
    "    f_J = sympy.lambdify([Ti,k],J_total) ##RECHECK LAMBDIFY FUNCTION\n",
    "\n",
    "    k_time = 10 #weight on time\n",
    "    sol = scipy.optimize.minimize(lambda T: f_J(T,k_time), [1]*n_legs, bounds=[[0.1, 100]]* n_legs)\n",
    "    T_opt = sol['x']\n",
    "    \n",
    "    return T_opt ## Optimzied T leg time for eval in Bezier\n",
    "find_opt_time"
   ]
  },
  {
   "cell_type": "code",
   "execution_count": 1210,
   "id": "4295417d",
   "metadata": {},
   "outputs": [
    {
     "data": {
      "text/latex": [
       "$\\displaystyle T_{0} k + \\left[\\begin{matrix}\\frac{48 \\left(540 + \\left[\\begin{matrix}3 T_{0}^{6} - 36 T_{0}^{5} + 199 T_{0}^{4} - 630 T_{0}^{3} + 1290 T_{0}^{2} - 1350 T_{0}\\end{matrix}\\right]\\right)}{T_{0}^{10}} + \\frac{48 \\left(540 + \\left[\\begin{matrix}12 T_{0}^{6} - 144 T_{0}^{5} + 721 T_{0}^{4} - 1875 T_{0}^{3} + 2640 T_{0}^{2} - 1890 T_{0}\\end{matrix}\\right]\\right)}{T_{0}^{10}} + \\frac{48 \\left(540 + \\left[\\begin{matrix}27 T_{0}^{6} - 234 T_{0}^{5} + 931 T_{0}^{4} - 2100 T_{0}^{3} + 2730 T_{0}^{2} - 1890 T_{0}\\end{matrix}\\right]\\right)}{T_{0}^{10}}\\end{matrix}\\right]$"
      ],
      "text/plain": [
       "T_0*k + Matrix([[48*(540 + Matrix([[3*T_0**6 - 36*T_0**5 + 199*T_0**4 - 630*T_0**3 + 1290*T_0**2 - 1350*T_0]]))/T_0**10 + 48*(540 + Matrix([[12*T_0**6 - 144*T_0**5 + 721*T_0**4 - 1875*T_0**3 + 2640*T_0**2 - 1890*T_0]]))/T_0**10 + 48*(540 + Matrix([[27*T_0**6 - 234*T_0**5 + 931*T_0**4 - 2100*T_0**3 + 2730*T_0**2 - 1890*T_0]]))/T_0**10]])"
      ]
     },
     "metadata": {},
     "output_type": "display_data"
    },
    {
     "data": {
      "text/plain": [
       "array([2.31512528])"
      ]
     },
     "execution_count": 1210,
     "metadata": {},
     "output_type": "execute_result"
    }
   ],
   "source": [
    "bc = np.array([\n",
    "    [ # position\n",
    "        [1, 2, 3],  # wp0, x, y, z\n",
    "        [2, 3, 4]   # wp1, x, y, z\n",
    "    ],\n",
    "    [ # velocity\n",
    "        [1, 0, 1],\n",
    "        [0, 1, -1]\n",
    "    ]\n",
    "])\n",
    "find_opt_time(6,bc,1)\n"
   ]
  },
  {
   "attachments": {},
   "cell_type": "markdown",
   "id": "081dc8f3",
   "metadata": {},
   "source": [
    "Finding the path of Multirotor in 3D space"
   ]
  },
  {
   "cell_type": "code",
   "execution_count": 1211,
   "id": "763ff936",
   "metadata": {},
   "outputs": [
    {
     "data": {
      "text/latex": [
       "$\\displaystyle T_{0} k + \\left[\\begin{matrix}\\frac{48 \\left(540 + \\left[\\begin{matrix}3 T_{0}^{6} - 36 T_{0}^{5} + 199 T_{0}^{4} - 630 T_{0}^{3} + 1290 T_{0}^{2} - 1350 T_{0}\\end{matrix}\\right]\\right)}{T_{0}^{10}} + \\frac{48 \\left(540 + \\left[\\begin{matrix}12 T_{0}^{6} - 144 T_{0}^{5} + 721 T_{0}^{4} - 1875 T_{0}^{3} + 2640 T_{0}^{2} - 1890 T_{0}\\end{matrix}\\right]\\right)}{T_{0}^{10}} + \\frac{48 \\left(540 + \\left[\\begin{matrix}27 T_{0}^{6} - 234 T_{0}^{5} + 931 T_{0}^{4} - 2100 T_{0}^{3} + 2730 T_{0}^{2} - 1890 T_{0}\\end{matrix}\\right]\\right)}{T_{0}^{10}}\\end{matrix}\\right]$"
      ],
      "text/plain": [
       "T_0*k + Matrix([[48*(540 + Matrix([[3*T_0**6 - 36*T_0**5 + 199*T_0**4 - 630*T_0**3 + 1290*T_0**2 - 1350*T_0]]))/T_0**10 + 48*(540 + Matrix([[12*T_0**6 - 144*T_0**5 + 721*T_0**4 - 1875*T_0**3 + 2640*T_0**2 - 1890*T_0]]))/T_0**10 + 48*(540 + Matrix([[27*T_0**6 - 234*T_0**5 + 931*T_0**4 - 2100*T_0**3 + 2730*T_0**2 - 1890*T_0]]))/T_0**10]])"
      ]
     },
     "metadata": {},
     "output_type": "display_data"
    }
   ],
   "source": [
    "def multiRotor_plan(): ## Currently outputs optimized time\n",
    "    bezier_6 = derive_bezier6()\n",
    "    bc = np.array([\n",
    "        [ # position\n",
    "            [1, 2, 3],  # wp0, x, y, z\n",
    "            [2, 3, 4]   # wp1, x, y, z\n",
    "        ],\n",
    "        [ # velocity\n",
    "            [1, 0, 1],\n",
    "            [0, 1, -1]\n",
    "        ]\n",
    "    ])\n",
    "\n",
    "    time_opt = find_opt_time(6, bc)\n",
    "\n",
    "    # t0 = np.linspace(0, time_opt, 1000)\n",
    "\n",
    "    # ##Convert matrix Symbol and substiute aray\n",
    "    # T = sympy.Symbol('T')\n",
    "\n",
    "    # wp_0 = sympy.MatrixSymbol('ptin', 2, 1) #pos/vel at waypoint 0\n",
    "    # wp_1 = sympy.MatrixSymbol('ptone',2,1)    \n",
    "\n",
    "    # PX = derive_bezier6()['bezier6_solve'] #Bezier Coefficient\n",
    "    # for i in range(len(bc[:,0,0])):\n",
    "    #     PX = PX.subs(wp_0[i],bc[:,0,0][i]).subs(wp_1[i],bc[:,1,0][i])\n",
    "    # PX = PX.subs(T,T)\n",
    "\n",
    "    \n",
    "    # traj_x = (derive_bezier6()['bezier6_traj'].subs(T,time_opt).subs(t,t0)).T\n",
    "    return time_opt\n",
    "\n",
    "t_opt = multiRotor_plan()"
   ]
  },
  {
   "cell_type": "code",
   "execution_count": 1212,
   "id": "15e606b9",
   "metadata": {},
   "outputs": [
    {
     "data": {
      "text/plain": [
       "array([2.31512528])"
      ]
     },
     "execution_count": 1212,
     "metadata": {},
     "output_type": "execute_result"
    }
   ],
   "source": [
    "t_opt"
   ]
  },
  {
   "cell_type": "code",
   "execution_count": 1213,
   "id": "0f8bd1fb",
   "metadata": {},
   "outputs": [
    {
     "data": {
      "text/plain": [
       "2.3151252777563114"
      ]
     },
     "execution_count": 1213,
     "metadata": {},
     "output_type": "execute_result"
    }
   ],
   "source": [
    "np.average(t_opt)"
   ]
  },
  {
   "cell_type": "code",
   "execution_count": null,
   "id": "7cd54935",
   "metadata": {},
   "outputs": [],
   "source": []
  }
 ],
 "metadata": {
  "kernelspec": {
   "display_name": "Python 3 (ipykernel)",
   "language": "python",
   "name": "python3"
  },
  "language_info": {
   "codemirror_mode": {
    "name": "ipython",
    "version": 3
   },
   "file_extension": ".py",
   "mimetype": "text/x-python",
   "name": "python",
   "nbconvert_exporter": "python",
   "pygments_lexer": "ipython3",
   "version": "3.10.6"
  }
 },
 "nbformat": 4,
 "nbformat_minor": 5
}
