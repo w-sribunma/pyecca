{
 "cells": [
  {
   "cell_type": "code",
   "execution_count": 1,
   "metadata": {},
   "outputs": [],
   "source": [
    "from Bezier3DTimeAllocation import *\n",
    "import sympy as sy\n",
    "from sympy import symbols, factorial, Function, summation, binomial, product\n",
    "import numpy as np\n",
    "import scipy\n",
    "import scipy.optimize"
   ]
  },
  {
   "cell_type": "code",
   "execution_count": 2,
   "metadata": {},
   "outputs": [
    {
     "data": {
      "text/latex": [
       "$\\displaystyle \\left[\\begin{matrix}P{\\left(0 \\right)} & P{\\left(1 \\right)} & P{\\left(2 \\right)} & P{\\left(3 \\right)} & P{\\left(4 \\right)} & P{\\left(5 \\right)}\\end{matrix}\\right]$"
      ],
      "text/plain": [
       "Matrix([[P(0), P(1), P(2), P(3), P(4), P(5)]])"
      ]
     },
     "execution_count": 2,
     "metadata": {},
     "output_type": "execute_result"
    }
   ],
   "source": [
    "n, i, j, m = symbols('n, i, j, m', integer=True, real=True)\n",
    "\n",
    "t = symbols('t')\n",
    "P = Function('P') #Position Function as a function of time\n",
    "deg = 6\n",
    "P_vect = (sympy.Matrix([P(i) for i in range(deg)])).T #Bezier 6 uses range(6)?\n",
    "P_vect"
   ]
  },
  {
   "cell_type": "code",
   "execution_count": null,
   "metadata": {},
   "outputs": [],
   "source": []
  }
 ],
 "metadata": {
  "kernelspec": {
   "display_name": "Python 3",
   "language": "python",
   "name": "python3"
  },
  "language_info": {
   "codemirror_mode": {
    "name": "ipython",
    "version": 3
   },
   "file_extension": ".py",
   "mimetype": "text/x-python",
   "name": "python",
   "nbconvert_exporter": "python",
   "pygments_lexer": "ipython3",
   "version": "3.10.6"
  },
  "orig_nbformat": 4
 },
 "nbformat": 4,
 "nbformat_minor": 2
}
