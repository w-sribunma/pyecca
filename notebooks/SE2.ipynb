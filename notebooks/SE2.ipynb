{
 "cells": [
  {
   "cell_type": "code",
   "execution_count": 10,
   "metadata": {},
   "outputs": [
    {
     "name": "stdout",
     "output_type": "stream",
     "text": [
      "The autoreload extension is already loaded. To reload it, use:\n",
      "  %reload_ext autoreload\n"
     ]
    }
   ],
   "source": [
    "%load_ext autoreload\n",
    "%autoreload 2\n",
    "\n",
    "import sys\n",
    "import os\n",
    "import math\n",
    "import numpy as np\n",
    "import datetime\n",
    "from zipfile import ZipFile\n",
    "\n",
    "sys.path.insert(0, '..')\n",
    "\n",
    "import casadi as ca\n",
    "from pyecca.lie.se2 import SE2\n",
    "from pathlib import Path\n"
   ]
  },
  {
   "cell_type": "code",
   "execution_count": 44,
   "metadata": {},
   "outputs": [],
   "source": [
    "def derive_se2():\n",
    "    # derive se2_error\n",
    "    p = ca.SX.sym('p', 3)\n",
    "    r = ca.SX.sym('r', 3)\n",
    "    se2_error = ca.Function('se2_error', [p, r], [SE2.log(SE2.product(SE2.inv(p), r))])\n",
    "\n",
    "    # SE(2) differential correction term\n",
    "    e = ca.SX.sym('e', 3)\n",
    "    x = e[0]\n",
    "    y = e[1]\n",
    "    theta = e[2]   \n",
    "\n",
    "    sin_theta = ca.sin(theta)\n",
    "    cos_theta = ca.cos(theta)\n",
    "\n",
    "    sin_2theta = 2*sin_theta*cos_theta\n",
    "    cos_2theta = 2*cos_theta*cos_theta - 1\n",
    "\n",
    "    a = ca.if_else(ca.fabs(theta) > 1e-3, theta*sin_theta/(2*(cos_theta - 1)), -1 + theta**2/12 + theta**4/720)\n",
    "    b = theta/2\n",
    "    c = ca.if_else(ca.fabs(theta) > 1e-3,(theta*x*sin_theta + (1 - cos_theta)*(theta*y - 2*x))/(2*theta*(1 - cos_theta)), y/2 - theta*x/12 + theta**3*x/720)\n",
    "    d = ca.if_else(ca.fabs(theta) > 1e-3, (theta*y*sin_theta + (1 - cos_theta)*(-theta*x - 2*y))/(2*theta*(1 - cos_theta)), -x/2 - theta*y/12 - theta**3*y/720)\n",
    "    \n",
    "    U = ca.SX.zeros(3, 3)\n",
    "    U[0, 0] = a\n",
    "    U[0, 1] = -b\n",
    "    U[0, 2] = c\n",
    "    U[1, 0] = b\n",
    "    U[1, 1] = a\n",
    "    U[1, 2] = d\n",
    "    U[2, 0] = 0\n",
    "    U[2, 1] = 0\n",
    "    U[2, 2] = -1\n",
    "\n",
    "    # SE(2) differential correction inverse\n",
    "    a = ca.if_else(ca.fabs(theta) > 1e-3, sin_theta/theta, 1 - theta**2/6 + theta**4/120)\n",
    "    b = ca.if_else(ca.fabs(theta) > 1e-3, -(1  - cos_theta)/theta, -theta/2 + theta**3/24 - theta**5/720) #fixed series\n",
    "    c = ca.if_else(ca.fabs(theta) > 1e-3, -(x*(theta*cos_theta - theta + sin_theta - sin_2theta/2) + y*(2*cos_theta - cos_2theta/2 - 3/2))/(theta**2*(1 - cos_theta)),\n",
    "                y/2 + theta*x/6 - theta**2*y/24 - theta**3*x/120 + theta**4*y/720)\n",
    "    d = ca.if_else(ca.fabs(theta) > 1e-3, -(x*(-2*cos_theta + cos_2theta/2 + 3/2) + y*(theta*cos_theta - theta + sin_theta - sin_2theta/2))/(theta**2*(1 - cos_theta)),\n",
    "                -x/2 + theta*y/6 + theta**2*x/24 - theta**3*y/120 - theta**4*x/720)\n",
    "    U_inv = ca.SX.zeros(3, 3)\n",
    "    U_inv[0, 0] = a\n",
    "    U_inv[0, 1] = b #fixed at b variable series\n",
    "    U_inv[0, 2] = c\n",
    "    U_inv[1, 0] = -b #fixed at b variable series\n",
    "    U_inv[1, 1] = a\n",
    "    U_inv[1, 2] = d\n",
    "    U_inv[2, 2] = 1\n",
    "    U_inv = -U_inv\n",
    "    \n",
    "    # SE(2) U inv series form\n",
    "    ad_zeta = ca.SX.zeros(3, 3)\n",
    "    ad_zeta[0, 1] = -theta\n",
    "    ad_zeta[1, 0] = theta\n",
    "    ad_zeta[0, 2] = y\n",
    "    ad_zeta[1, 2] = -x\n",
    "    n_series = 100\n",
    "\n",
    "    U_inv_series = ca.SX.eye(3)\n",
    "    ad_zeta_k = ca.SX.eye(3)\n",
    "    for k in range(1, 10):\n",
    "        ad_zeta_k = ad_zeta_k@ad_zeta\n",
    "        U_inv_series += ad_zeta_k/math.factorial(k+1)\n",
    "    U_inv_series = -U_inv_series #check if se(3) odd/even sum needs negative\n",
    "    \n",
    "    f_U = ca.Function('se2_U', [e], [U])\n",
    "    f_U_inv = ca.Function('se2_U_inv', [e], [U_inv])\n",
    "    f_U_inv_series = ca.Function('se2_U_inv_series', [e], [U_inv_series])\n",
    "\n",
    "    # display( np.max(f_U([0.1, 0.2, 3])@f_U_inv([0.1, 0.2, 3]) - np.eye(3)))\n",
    "    # display(f_U_inv([0.1 , 0.2, 3]))\n",
    "    # display(f_U_inv_series([0.1 , 0.2, 3]))\n",
    "\n",
    "    assert np.max(f_U([0.1, 0.2, 3])@f_U_inv([0.1, 0.2, 3]) - np.eye(3)) < 1e-10\n",
    "    assert np.max(f_U_inv([0.1 , 0.2, 3])-f_U_inv_series([0.1, 0.2, 3])) < 1e-2 #check if series solution is the same as closed form\n",
    "\n",
    "\n",
    "    return {\n",
    "        'se2_U': f_U,\n",
    "        'se2_U_inv': f_U_inv,\n",
    "        'se2_error': se2_error\n",
    "    }"
   ]
  },
  {
   "cell_type": "code",
   "execution_count": 45,
   "metadata": {},
   "outputs": [
    {
     "data": {
      "text/plain": [
       "DM(\n",
       "[[-0.04704, 0.663331, -0.0759874], \n",
       " [-0.663331, -0.04704, -0.0414196], \n",
       " [0, 0, -1]])"
      ]
     },
     "metadata": {},
     "output_type": "display_data"
    },
    {
     "data": {
      "text/plain": [
       "DM(\n",
       "[[-0.0484375, 0.663683, -0.0759643], \n",
       " [-0.663683, -0.0484375, -0.0413147], \n",
       " [0, 0, -1]])"
      ]
     },
     "metadata": {},
     "output_type": "display_data"
    }
   ],
   "source": [
    "def generate_code():\n",
    "    code_opts = {\n",
    "        'with_header': True,\n",
    "        'with_mem': False,\n",
    "        'main': False,\n",
    "        'with_import': False,\n",
    "        'with_export': False,\n",
    "        'with_import': False\n",
    "    }\n",
    "\n",
    "    start_dir = Path.cwd()\n",
    "    gen_dir = start_dir / \"gen\"\n",
    "    gen_dir.mkdir(parents=True, exist_ok=True)\n",
    "\n",
    "    os.chdir(gen_dir)\n",
    "    gen_bezier6 = ca.CodeGenerator('se2', code_opts)\n",
    "    diff_correction = derive_se2()\n",
    "    gen_bezier6.add(diff_correction['se2_U'])\n",
    "    gen_bezier6.add(diff_correction['se2_U_inv'])\n",
    "    gen_bezier6.add(diff_correction['se2_error'])\n",
    "    gen_bezier6.generate()\n",
    "\n",
    "    version=datetime.datetime.now().strftime(\"%m-%d-%Y-%H:%M\")\n",
    "    with ZipFile(gen_dir / f'gen_se2-{version}.zip', 'w') as myzip:\n",
    "        for f in Path('.').glob(\"*.c\"):\n",
    "            myzip.write(f)\n",
    "            f.unlink()\n",
    "        for f in Path('.').glob(\"*.h\"):\n",
    "            myzip.write(f)\n",
    "            f.unlink()\n",
    "    os.chdir(start_dir)\n",
    "    \n",
    "generate_code()"
   ]
  },
  {
   "cell_type": "code",
   "execution_count": null,
   "metadata": {},
   "outputs": [],
   "source": []
  }
 ],
 "metadata": {
  "kernelspec": {
   "display_name": "Python 3",
   "language": "python",
   "name": "python3"
  },
  "language_info": {
   "codemirror_mode": {
    "name": "ipython",
    "version": 3
   },
   "file_extension": ".py",
   "mimetype": "text/x-python",
   "name": "python",
   "nbconvert_exporter": "python",
   "pygments_lexer": "ipython3",
   "version": "3.8.10"
  },
  "orig_nbformat": 4,
  "vscode": {
   "interpreter": {
    "hash": "916dbcbb3f70747c44a77c7bcd40155683ae19c65e1c03b4aa3499c5328201f1"
   }
  }
 },
 "nbformat": 4,
 "nbformat_minor": 2
}
